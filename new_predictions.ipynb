{
 "cells": [
  {
   "cell_type": "code",
   "execution_count": 23,
   "metadata": {},
   "outputs": [],
   "source": [
    "from tensorflow import keras\n",
    "model2 = keras.models.load_model('models/model_final.h5')"
   ]
  },
  {
   "cell_type": "code",
   "execution_count": 24,
   "metadata": {},
   "outputs": [
    {
     "name": "stdout",
     "output_type": "stream",
     "text": [
      "Model: \"sequential_5\"\n",
      "_________________________________________________________________\n",
      "Layer (type)                 Output Shape              Param #   \n",
      "=================================================================\n",
      "dense_29 (Dense)             (None, 343)               117992    \n",
      "_________________________________________________________________\n",
      "dense_30 (Dense)             (None, 128)               44032     \n",
      "_________________________________________________________________\n",
      "dense_31 (Dense)             (None, 64)                8256      \n",
      "_________________________________________________________________\n",
      "dense_32 (Dense)             (None, 32)                2080      \n",
      "_________________________________________________________________\n",
      "dense_33 (Dense)             (None, 1)                 33        \n",
      "=================================================================\n",
      "Total params: 172,393\n",
      "Trainable params: 172,393\n",
      "Non-trainable params: 0\n",
      "_________________________________________________________________\n"
     ]
    }
   ],
   "source": [
    "model2.summary()"
   ]
  },
  {
   "cell_type": "code",
   "execution_count": 25,
   "metadata": {},
   "outputs": [],
   "source": [
    "#preparing the testing dataset\n",
    "import pandas as pd\n",
    "import requests as r\n",
    "from Bio import SeqIO\n",
    "from io import StringIO\n",
    "import time\n",
    "from Bio.SeqUtils.ProtParam import ProteinAnalysis"
   ]
  },
  {
   "cell_type": "code",
   "execution_count": 26,
   "metadata": {},
   "outputs": [
    {
     "name": "stdout",
     "output_type": "stream",
     "text": [
      "*******************\n"
     ]
    }
   ],
   "source": [
    "disc1 = 'DISC1.fasta'\n",
    "protein_seq = []\n",
    "protein = []\n",
    "for record in SeqIO.parse(disc1,\"fasta\"):\n",
    "    seq=str(record.seq)\n",
    "    protein_seq.append(seq)\n",
    "    print(\"*******************\")"
   ]
  },
  {
   "cell_type": "code",
   "execution_count": 27,
   "metadata": {},
   "outputs": [
    {
     "name": "stdout",
     "output_type": "stream",
     "text": [
      "['ACO2.fasta', 'DPYSL2.fasta', 'TUBB5.fasta', 'SPTAN1.fasta', 'SEPT3.fasta', 'DPYSL4.fasta', 'PRDX2.fasta', 'TF.fasta', 'CNP.fasta', 'PKM.fasta', 'ENO1.fasta', 'HSPA8.fasta', 'ACTA1.fasta', 'PRDX1.fasta', 'GSN.fasta', 'MDH1.fasta', 'DPYSL5.fasta', 'DNM1.fasta', 'HSPA2.fasta', 'GSTM3.fasta', 'GLUL.fasta', 'HK1.fasta', 'TUBA2.fasta', 'HSPA1.fasta', 'HSPA5.fasta', 'ALDOA.fasta', 'GSTTLP28.fasta', 'TUBA6.fasta', 'ALDOC.fasta']\n"
     ]
    }
   ],
   "source": [
    "import os\n",
    "path = 'PreFrontal_Cortex/WG_Matter/'\n",
    "arr = os.listdir(path)\n",
    "print(arr)\n",
    "for i in range(0,len(arr)):\n",
    "    arr[i] = path + arr[i]\n",
    "for file in arr:\n",
    "    for record in SeqIO.parse(file,\"fasta\"):\n",
    "        seq=str(record.seq)  \n",
    "        protein_seq.append(seq)\n",
    "        "
   ]
  },
  {
   "cell_type": "code",
   "execution_count": 28,
   "metadata": {},
   "outputs": [
    {
     "name": "stdout",
     "output_type": "stream",
     "text": [
      "30\n"
     ]
    }
   ],
   "source": [
    "print(len(protein_seq))"
   ]
  },
  {
   "cell_type": "code",
   "execution_count": 29,
   "metadata": {},
   "outputs": [],
   "source": [
    "test_protein_pairs = []\n",
    "for i in range(1,len(protein_seq)):\n",
    "    new_prt = protein_seq[0]+protein_seq[i]\n",
    "    test_protein_pairs.append(new_prt)"
   ]
  },
  {
   "cell_type": "code",
   "execution_count": 30,
   "metadata": {},
   "outputs": [],
   "source": [
    "Clusters = {1:['A','G','V'],2:['I','L','F','P'],3:['Y','M','T','S'],4:['H','N','Q','W'],5:['R','K'],6:['D','E'],7:['C']}\n",
    "Cluster_Indexes={\n",
    "    'X':1,\n",
    "    'U':1,\n",
    "    'A':1,\n",
    "    'G':1,\n",
    "    'V':1,\n",
    "    'I':2,\n",
    "    'L':2,\n",
    "    'F':2,\n",
    "    'P':2,\n",
    "    'Y':3,\n",
    "    'M':3,\n",
    "    'T':3,\n",
    "    'S':3,\n",
    "    'H':4,\n",
    "    'N':4,\n",
    "    'Q':4,\n",
    "    'W':4,\n",
    "    'R':5,\n",
    "    'K':5,\n",
    "    'D':6,\n",
    "    'E':6,\n",
    "    'C':7\n",
    "}\n",
    "standard = [x for x in range(111, 778) if '8' not in str(x) and '9' not in str(x) and '0' not in str(x)]"
   ]
  },
  {
   "cell_type": "code",
   "execution_count": 31,
   "metadata": {},
   "outputs": [],
   "source": [
    "#Encoding each amino acid in the protein with the corresponding cluster vaue from Cluster_Indexes\n",
    "Encoded_protein_schizophrenia = []\n",
    "for seq in test_protein_pairs:\n",
    "    temp = seq\n",
    "    for index,value in Cluster_Indexes.items():\n",
    "        temp = temp.replace(index,str(value))\n",
    "    Encoded_protein_schizophrenia.append(temp)\n",
    "    temp = ''"
   ]
  },
  {
   "cell_type": "code",
   "execution_count": 32,
   "metadata": {},
   "outputs": [
    {
     "name": "stdout",
     "output_type": "stream",
     "text": [
      "(29, 343)\n"
     ]
    }
   ],
   "source": [
    "#Creating protein vectors\n",
    "import numpy as np\n",
    "protein_vectors_schizophrenia = []\n",
    "for prt in Encoded_protein_schizophrenia:\n",
    "    b = [prt[i:i+3] for i in range(len(prt)-2)]\n",
    "    temp = [0]*343\n",
    "    #temp1 = list(temp)\n",
    "    for amino in set(b):\n",
    "        loc = standard.index(int(amino))\n",
    "        count1 = b.count(amino)\n",
    "        temp[loc] = count1\n",
    "    protein_vectors_schizophrenia.append(temp)\n",
    "\n",
    "\n",
    "protein_vectors_schizophrenia = np.array(protein_vectors_schizophrenia)\n",
    "print(protein_vectors_schizophrenia.shape)"
   ]
  },
  {
   "cell_type": "code",
   "execution_count": 33,
   "metadata": {},
   "outputs": [
    {
     "name": "stdout",
     "output_type": "stream",
     "text": [
      "(29, 1)\n",
      "25\n",
      "4\n"
     ]
    }
   ],
   "source": [
    "results = model2.predict_classes(protein_vectors_schizophrenia)\n",
    "print(results.shape)\n",
    "print(np.count_nonzero(results == 1))\n",
    "print(np.count_nonzero(results == 0))"
   ]
  },
  {
   "cell_type": "code",
   "execution_count": 34,
   "metadata": {},
   "outputs": [
    {
     "name": "stdout",
     "output_type": "stream",
     "text": [
      "[[0]\n",
      " [1]\n",
      " [0]\n",
      " [1]\n",
      " [1]\n",
      " [1]\n",
      " [1]\n",
      " [0]\n",
      " [1]\n",
      " [1]\n",
      " [1]\n",
      " [1]\n",
      " [0]\n",
      " [1]\n",
      " [1]\n",
      " [1]\n",
      " [1]\n",
      " [1]\n",
      " [1]\n",
      " [1]\n",
      " [1]\n",
      " [1]\n",
      " [1]\n",
      " [1]\n",
      " [1]\n",
      " [1]\n",
      " [1]\n",
      " [1]\n",
      " [1]]\n"
     ]
    }
   ],
   "source": [
    "print(results)"
   ]
  },
  {
   "cell_type": "code",
   "execution_count": null,
   "metadata": {},
   "outputs": [],
   "source": []
  }
 ],
 "metadata": {
  "kernelspec": {
   "display_name": "Python 3",
   "language": "python",
   "name": "python3"
  },
  "language_info": {
   "codemirror_mode": {
    "name": "ipython",
    "version": 3
   },
   "file_extension": ".py",
   "mimetype": "text/x-python",
   "name": "python",
   "nbconvert_exporter": "python",
   "pygments_lexer": "ipython3",
   "version": "3.8.0"
  }
 },
 "nbformat": 4,
 "nbformat_minor": 4
}
